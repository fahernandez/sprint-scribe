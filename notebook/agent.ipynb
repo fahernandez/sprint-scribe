{
 "cells": [
  {
   "cell_type": "code",
   "execution_count": null,
   "id": "61c2fc3c",
   "metadata": {},
   "outputs": [],
   "source": [
    "import os\n",
    "import getpass\n",
    "from uuid import uuid4\n",
    "\n",
    "os.environ[\"OPENAI_API_KEY\"] = getpass.getpass(\"Enter your OpenAI API Key:\")\n",
    "os.environ[\"LANGCHAIN_TRACING_V2\"] = \"true\"\n",
    "os.environ[\"LANGCHAIN_API_KEY\"] = getpass.getpass(\"LangChain API Key:\")\n",
    "os.environ[\"LANGCHAIN_PROJECT\"] = f\"Sprint Scribe - {uuid4().hex[0:8]}\""
   ]
  },
  {
   "cell_type": "code",
   "execution_count": 85,
   "id": "77488970",
   "metadata": {},
   "outputs": [],
   "source": [
    "os.environ[\"TAVILY_API_KEY\"] = getpass.getpass(\"TAVILY_API_KEY\")"
   ]
  },
  {
   "cell_type": "code",
   "execution_count": 231,
   "id": "abe3ddab",
   "metadata": {},
   "outputs": [
    {
     "data": {
      "text/plain": [
       "Document(metadata={'source': '../data/TF-Task.csv', 'row': 0, 'Issue key': 'TDF-156', 'Parent key': 'TDF-1', 'Parent summary': 'Initiation:Discovery', 'Summary': 'Tailor the customer questionnaire'}, page_content=\"Description: Using information obtained from the GTM and CSA teams, as well as from the client kick-off meeting, tailor the questionnaire that will be used in the client workshops.\\n\\nThe goals are:\\n\\n# Address relevant questions with answers that we already have\\n# Reduce the questionnaire to the relevant questions that we don’t already have answers for\\n\\nThe outcome will be a focused questionnaire that can be used in the discovery workshops when we can confirm the information we already heard, and ask only the relevant remaining questions.  This will let the client know that we’ve been listening to them since the beginning, that the different teams in Infostrux are talking to one another and that we respect the client’s time by not repeating the same set of questions.\\n\\n(TIP:  invite the CSA team member to help tailor the questionnaire so that they can supply the info they have)\\n\\nUse the following template as the base for your questionnaire:\\n\\n[https://docs.google.com/spreadsheets/d/1zPzMetyBDuwizTgMRENQCP7WbXGKLpviUVRekpksLDY/edit?usp=sharing|https://docs.google.com/spreadsheets/d/1zPzMetyBDuwizTgMRENQCP7WbXGKLpviUVRekpksLDY/edit?usp=sharing|smart-link] \\n\\nComplete the information you already know, avoid unnecessary queries for the customer for domains that are not relevant to the engagement, and refrain from sharing your screen or the document in its entirety to prevent overwhelming the customer.\\n\\n*Acceptance Criteria:*\\n\\n* Create a copy of the questionnaire and store it in the client's Google Drive folder\\n* Fill in all details that we can before the client discovery calls so that we know what to fill in during these calls (the missing details)\")"
      ]
     },
     "execution_count": 231,
     "metadata": {},
     "output_type": "execute_result"
    }
   ],
   "source": [
    "from langchain_community.document_loaders.csv_loader import CSVLoader\n",
    "from datetime import datetime, timedelta\n",
    "\n",
    "loader = CSVLoader(\n",
    "    file_path=f\"../data/TF-Task.csv\",\n",
    "    metadata_columns=[\n",
    "        \"Issue key\",\n",
    "        \"Parent key\",\n",
    "        \"Parent summary\",\n",
    "        \"Summary\"\n",
    "    ],\n",
    ")\n",
    "\n",
    "jira_tickets = loader.load()\n",
    "jira_tickets[0]"
   ]
  },
  {
   "cell_type": "code",
   "execution_count": 232,
   "id": "b26245a7",
   "metadata": {},
   "outputs": [],
   "source": [
    "from langchain_core.prompts import ChatPromptTemplate\n",
    "\n",
    "RAG_TEMPLATE = \"\"\"\\\n",
    "You are a helpful and kind project manager assistant. Use the context provided below to answer the question.\n",
    "\n",
    "If you do not know the answer, or are unsure, say you don't know.\n",
    "\n",
    "Query:\n",
    "{question}\n",
    "\n",
    "Context:\n",
    "{context}\n",
    "\"\"\"\n",
    "\n",
    "rag_prompt = ChatPromptTemplate.from_template(RAG_TEMPLATE)"
   ]
  },
  {
   "cell_type": "code",
   "execution_count": 233,
   "id": "a7a242da",
   "metadata": {},
   "outputs": [],
   "source": [
    "from langchain_openai import ChatOpenAI\n",
    "\n",
    "chat_model = ChatOpenAI(model=\"gpt-4.1-nano\")"
   ]
  },
  {
   "cell_type": "markdown",
   "id": "199e350b",
   "metadata": {},
   "source": [
    "# Naive Retriever"
   ]
  },
  {
   "cell_type": "code",
   "execution_count": 234,
   "id": "df1fae5d",
   "metadata": {},
   "outputs": [],
   "source": [
    "from langchain_community.vectorstores import Qdrant\n",
    "from langchain_openai import OpenAIEmbeddings\n",
    "from langchain_core.runnables import RunnablePassthrough\n",
    "from operator import itemgetter\n",
    "from langchain_core.output_parsers import StrOutputParser"
   ]
  },
  {
   "cell_type": "code",
   "execution_count": 235,
   "id": "8c377a8c",
   "metadata": {},
   "outputs": [],
   "source": [
    "embeddings = OpenAIEmbeddings(model=\"text-embedding-3-small\")\n",
    "vectorstore = Qdrant.from_documents(\n",
    "    jira_tickets,\n",
    "    embeddings,\n",
    "    location=\":memory:\",\n",
    "    collection_name=\"LoanComplaints\",\n",
    ")\n",
    "naive_retriever = vectorstore.as_retriever(search_kwargs={\"k\": 10})\n",
    "\n",
    "naive_retrieval_chain = (\n",
    "    # INVOKE CHAIN WITH: {\"question\" : \"<<SOME USER QUESTION>>\"}\n",
    "    # \"question\" : populated by getting the value of the \"question\" key\n",
    "    # \"context\"  : populated by getting the value of the \"question\" key and chaining it into the base_retriever\n",
    "    {\n",
    "        \"context\": itemgetter(\"question\") | naive_retriever,\n",
    "        \"question\": itemgetter(\"question\"),\n",
    "    }\n",
    "    # \"context\"  : is assigned to a RunnablePassthrough object (will not be called or considered in the next step)\n",
    "    #              by getting the value of the \"context\" key from the previous step\n",
    "    | RunnablePassthrough.assign(context=itemgetter(\"context\"))\n",
    ")"
   ]
  },
  {
   "cell_type": "code",
   "execution_count": 236,
   "id": "da701f2b",
   "metadata": {},
   "outputs": [
    {
     "data": {
      "text/plain": [
       "[Document(metadata={'source': '../data/TF-Task.csv', 'row': 1, 'Issue key': 'TDF-17', 'Parent key': 'TDF-1', 'Parent summary': 'Initiation:Discovery', 'Summary': 'Infrastructure Workshop', '_id': '69ed55bf3a78436e9a21284ab3152029', '_collection_name': 'LoanComplaints'}, page_content='Description: As a development team, we want to hold discovery sessions to verify and or adjust the business objectives that were presented in the proposal and to understand the current and desired future data analytics landscape so that we can properly plan out upcoming work\\n\\n*Notes:*\\n\\n* More than one session can be scheduled, as necessary.\\n* Often, talking directly to stakeholders clarifies what needs to be done. Care has to be taken to understand priorities of different parties and align them if possible, with the priorities set by the person responsible for the whole project\\n* Example questions which can be used in some cases instead of the questionnaire for shorter-term projects [https://infostrux.atlassian.net/wiki/spaces/Delivery/pages/1755512837|https://infostrux.atlassian.net/wiki/spaces/Delivery/pages/1755512837|smart-link] \\n* Ideally, everybody on the team attends the discovery sessions so that everybody is familiar with the business objectives, current state and future \\n* The proposal and all pre-sales discovery is in google docs under Customers/<customer>/PreSales/\\n* SOW is in Customers/<customer>/Contracts/\\n* Template questionnaire to drive the session is in Engineering/_Templates folder - check for the latest version of CUSTOMER - Current and Future State Questionnaire\\n* For this task, only Data Analytics part of the Questionnaire is relevant\\n\\n*Acceptance Criteria:*\\n\\n* Client work session scheduled\\n* Agenda circulated \\n* Questionnaire copied and prefilled with all known information obtained by pre-sales\\n* Questionnaire shared with the client\\n* \"Customers/<customer>/Infostrux - <customer> Shared Folder\" is shared with the client\\n* Client asked to fill what they can\\n\\n* Work session conducted and recorded, focused on infrastructure, ingest/egest processing of the data sources/sinks, operations, devops\\n* Notes taken in the questionnaire, ideally when screen sharing is on so that the customer can verify what\\'s being typed\\n* Recording uploaded to Customers/<customer>/Delivery/Meeting Notes and Recordings/ and marked with purpose and date\\n\\n* Questionnaire cleaned up\\n* Further clarification, if needed, done, or clearly marked to be resolved during the future state design phase\\n\\n* Questionnaire shared with the client, asking for comments\\n* Comments reviewed, clarified\\n* Client sign-off granted'),\n",
       " Document(metadata={'source': '../data/TF-Task.csv', 'row': 2, 'Issue key': 'TDF-16', 'Parent key': 'TDF-1', 'Parent summary': 'Initiation:Discovery', 'Summary': 'Data Workshop', '_id': '4c4e2c866ee44b7e852441bfd3df4c72', '_collection_name': 'LoanComplaints'}, page_content='Description: As a development team, we want to hold discovery sessions to verify and or adjust the business objectives that were presented in the proposal and to understand the current and desired future data analytics landscape so that we can properly plan out upcoming work\\n\\n*Notes:*\\n\\n* More than one session can be scheduled, as necessary.\\n* Often, talking directly to stakeholders clarifies what needs to be done. Care has to be taken to understand the priorities of different parties and align them if possible, with the priorities set by the person responsible for the whole project\\n* Example questions which can be used in some cases instead of the questionnaire for shorter-term projects [https://infostrux.atlassian.net/wiki/spaces/Delivery/pages/1755512837|https://infostrux.atlassian.net/wiki/spaces/Delivery/pages/1755512837|smart-link]\\n* Ideally, everybody on the team attends the discovery sessions so that everybody is familiar with the business objectives, current state, and future \\n* The proposal and all pre-sales discovery is in Google Docs under Customers/<customer>/PreSales/\\n* SOW is in Customers/<customer>/Contracts/\\n* Template questionnaire to drive the session is in Engineering/_Templates folder - check for the latest version of CUSTOMER - Current and Future State Questionnaire\\n* For this task, only Data Analytics part of the Questionnaire is relevant\\n\\n*Acceptance Criteria:*\\n\\n* Client work session scheduled\\n* Agenda circulated \\n* Questionnaire copied and prefilled with all known information obtained by pre-sales\\n* The questionnaire was shared with the client\\n* \"Customers/<customer>/Infostrux - <customer> Shared Folder\" is shared with the client\\n* The client asked to fill in what they can\\n\\n* Work session conducted and recorded, focused on:\\n** Business objectives section - this is just about the most important part to understand and verify. The section should have been prefilled based on SOW and the proposal.\\n** data analytics aspects and understanding of data sources\\n* Notes taken in the questionnaire, ideally when screen sharing is on so that the customer can verify what\\'s being typed\\n* Recording uploaded to Customers/<customer>/Delivery/Meeting Notes and Recordings/ and marked with purpose and date\\n\\n* Questionnaire cleaned up\\n* Further clarification, if needed, done or clearly marked to be resolved during the future state design phase\\n\\n* A questionnaire was shared with the client, asking for comments\\n* Comments reviewed, clarified\\n* Client sign-off granted'),\n",
       " Document(metadata={'source': '../data/TF-Task.csv', 'row': 90, 'Issue key': 'TDF-158', 'Parent key': 'TDF-3', 'Parent summary': 'Initiation:Future State', 'Summary': 'Create - Customer-specific tickets and epics', '_id': 'abab465a96af4d09b72e26b412d91c52', '_collection_name': 'LoanComplaints'}, page_content=\"Description: As a tech lead, I want to create epics and tickets not covered by the TDF based on the technical discovery and current and future state documentation. \\n\\n*Notes:* \\n\\n* Use [this document|https://infostrux.atlassian.net/wiki/spaces/ENG/pages/1823801360/JIRA+Board+Habits?atlOrigin=eyJpIjoiMTM3MDdkOTdkZmI0NDYwNDlkYWY2MWExZTNmNTUyMTEiLCJwIjoiYyJ9] as a guide for creating additional tickets.\\n* The {{SAMPLE}} epics may not apply to this project, so they do not need to be cloned if they are not related to the SOW / Future state requirements approved by the client.\\n\\n*Acceptance Criteria:*\\n\\n* Create the epics based on the SOW and the Future state document, based on the high-level focus areas.\\n* Create tasks under each epic for the actual work to be done (use {{_TDF Samples}} whenever possible)\\n* Go over the SOW and ensure that all of the points are covered \\n** If something is mentioned in the SOW but in the discovery meeting, the customer said they don't want it, add a prefix of “Out-Of-Scope” in the ticket title.\\n* Review the discovery minutes and ensure everything the customer mentioned is covered.\\n* Ask the team for feedback.\"),\n",
       " Document(metadata={'source': '../data/TF-Task.csv', 'row': 87, 'Issue key': 'TDF-163', 'Parent key': 'TDF-161', 'Parent summary': 'SAMPLE - Data Quality Improvement', 'Summary': 'DQI 2 - Analyze the Information Environment', '_id': 'b09a444fd96d4a89aea7572244490404', '_collection_name': 'LoanComplaints'}, page_content=\"Description: As a client and engineer, I want to gather, compile, and analyze information about the current situation and information environment, at the appropriate level of detail, for the data, processes, people/organizations, technology, and information life cycle associated with the DQ issue.\\n\\n* Provide an understanding of the environment impacting or creating the issue.\\n* Ensure the data relevant to the issue is being assessed and analyzed.\\n* As well as the data, understand the relevant people, processes, and technologies.\\n\\n*Notes:*\\n\\n* I recommend that the technical lead on the project take on this task.\\n\\n*Acceptance Criteria:*\\n\\n* Has enough data and specifications been gathered to support the project goals?\\n* Has the information lifecycle/dataflow been documented?\\n* Have the initial ideas on business impact and root causes been documented?\\n** A great way to document root causes is the [+Ishikawa 'fish diagram,'+ |https://asq.org/quality-resources/fishbone]which is great for identifying possible causes and categorising the root causes.\\n** Business impact can be roughed in initially with the [+Failure Mode & Effects Analysis (FMEA)+|https://asq.org/quality-resources/fmea].\\n* Have issues with permissions to access data been identified?\"),\n",
       " Document(metadata={'source': '../data/TF-Task.csv', 'row': 112, 'Issue key': 'TDF-42', 'Parent key': 'TDF-5', 'Parent summary': 'SAMPLE - Dev Env:Data', 'Summary': 'Project Repo - Data', '_id': '876d71b7e70c4bd6bb6831909e97350d', '_collection_name': 'LoanComplaints'}, page_content='Description: As a developer, I need a project repo to manage source code for the client that can sync with common templates and components\\n\\n*Notes:*\\n\\n* For Infostrux standard projects clone dbt-starter-project, follow a confluence doc on \"Starting and maintaining a GIT project from the template\"\\n* For custom projects, determine the project structure together with the customer\\n\\n*Acceptance Criteria:*\\n\\n* A private repo is set up \\n* All developers have read/write access \\n* PR process is set up with proper permissions\\n* Instructions on how to set up the development environment are accessible from the repo readme (this is done out-of-the-box for the starter projects)'),\n",
       " Document(metadata={'source': '../data/TF-Task.csv', 'row': 0, 'Issue key': 'TDF-156', 'Parent key': 'TDF-1', 'Parent summary': 'Initiation:Discovery', 'Summary': 'Tailor the customer questionnaire', '_id': 'ccba3bafa3e1478094cf7879a145fa47', '_collection_name': 'LoanComplaints'}, page_content=\"Description: Using information obtained from the GTM and CSA teams, as well as from the client kick-off meeting, tailor the questionnaire that will be used in the client workshops.\\n\\nThe goals are:\\n\\n# Address relevant questions with answers that we already have\\n# Reduce the questionnaire to the relevant questions that we don’t already have answers for\\n\\nThe outcome will be a focused questionnaire that can be used in the discovery workshops when we can confirm the information we already heard, and ask only the relevant remaining questions.  This will let the client know that we’ve been listening to them since the beginning, that the different teams in Infostrux are talking to one another and that we respect the client’s time by not repeating the same set of questions.\\n\\n(TIP:  invite the CSA team member to help tailor the questionnaire so that they can supply the info they have)\\n\\nUse the following template as the base for your questionnaire:\\n\\n[https://docs.google.com/spreadsheets/d/1zPzMetyBDuwizTgMRENQCP7WbXGKLpviUVRekpksLDY/edit?usp=sharing|https://docs.google.com/spreadsheets/d/1zPzMetyBDuwizTgMRENQCP7WbXGKLpviUVRekpksLDY/edit?usp=sharing|smart-link] \\n\\nComplete the information you already know, avoid unnecessary queries for the customer for domains that are not relevant to the engagement, and refrain from sharing your screen or the document in its entirety to prevent overwhelming the customer.\\n\\n*Acceptance Criteria:*\\n\\n* Create a copy of the questionnaire and store it in the client's Google Drive folder\\n* Fill in all details that we can before the client discovery calls so that we know what to fill in during these calls (the missing details)\"),\n",
       " Document(metadata={'source': '../data/TF-Task.csv', 'row': 96, 'Issue key': 'TDF-22', 'Parent key': 'TDF-3', 'Parent summary': 'Initiation:Future State', 'Summary': 'Technology Stack', '_id': '0187096dcd324ff2b98b678fa19e8889', '_collection_name': 'LoanComplaints'}, page_content=\"Description: As a product owner, I want to have the architecture well thought out and documented, so that the developers know what to do now and in the future\\n\\n*Notes:*\\n\\n* Reference architecture lives in [https://infostrux.atlassian.net/wiki/spaces/ENG/pages/665878622/Reference+Architecture|https://infostrux.atlassian.net/wiki/spaces/ENG/pages/665878622/Reference+Architecture]  \\n* Reference architecture may need to be updated if a particular aspect of the current customer's solution is not covered properly. However, the reference architecture still serves as a master document for all other projects, and any deviations from the base need to be exposed as alternatives \\n* Future state template is on Google Drive under [Engineering/Templates|https://drive.google.com/drive/folders/1Mkctb4ccXZU-Icicrz853Bg83ENQGNkj]\\n* Future state deliverable should live  in /Customers/<customer>/Infostrux - <customer> Shared Folder/Deliverables\\n* An approach to infrastructure (mostly for extractors) is documented here: [https://infostrux.atlassian.net/wiki/spaces/ENG/pages/225574915/Extractors|https://infostrux.atlassian.net/wiki/spaces/ENG/pages/225574915/Extractors] \\n\\n*Acceptance Criteria:*\\n\\n* The following section of the future state document is filled in:\\n** Technology Stack\\n* A future state document for projects built on the reference architecture should link appropriate places in the reference architecture and describe choices of alternatives and/or deviations from it. \\n* Most of the decision points are resolved - this may require communication with the customer and socialization of what we are trying to do.\\n* Grammarly run\\n* Reviewed internally\"),\n",
       " Document(metadata={'source': '../data/TF-Task.csv', 'row': 97, 'Issue key': 'TDF-21', 'Parent key': 'TDF-3', 'Parent summary': 'Initiation:Future State', 'Summary': 'Infrastructure', '_id': 'e24e5724deb141c8ac24d0dab4f8623e', '_collection_name': 'LoanComplaints'}, page_content=\"Description: As a product owner, I want to have the architecture well thought out and documented, so that the developers know what to do now and in the future.\\n\\n*Notes:*\\n\\n* Reference architecture lives in [https://infostrux.atlassian.net/wiki/spaces/ENG/pages/665878622/Reference+Architecture|https://infostrux.atlassian.net/wiki/spaces/ENG/pages/665878622/Reference+Architecture]  \\n* Reference architecture may need to be updated if a particular aspect of the current customer's solution is not appropriately covered. However, the reference architecture still serves as a master document for all other projects, and any deviations from the base need to be exposed as alternatives. \\n* Future state template is on Google Drive under [Engineering/Templates|https://drive.google.com/drive/folders/1Mkctb4ccXZU-Icicrz853Bg83ENQGNkj]\\n* Customer-specific architecture documentation for projects built on the reference architecture should link appropriate places in the reference architecture and describe choices of alternatives and/or deviations from the reference architecture. \\n* Future state deliverable should live  in /Customers/<customer>/Infostrux - <customer> Shared Folder/Deliverables\\n* An approach to infrastructure (mostly for extractors) is documented here: [https://infostrux.atlassian.net/wiki/spaces/ENG/pages/225574915/Extractors|https://infostrux.atlassian.net/wiki/spaces/ENG/pages/225574915/Extractors] \\n\\n*Acceptance Criteria:*\\n\\n* The following section of the future state document is filled in:\\n** Infrastructure\\n* Most of the decision points (structure of accounts etc.) are resolved - this may require communication with the customer and socialization of what we are trying to do\\n* Grammarly run\\n* Reviewed internally\"),\n",
       " Document(metadata={'source': '../data/TF-Task.csv', 'row': 95, 'Issue key': 'TDF-23', 'Parent key': 'TDF-3', 'Parent summary': 'Initiation:Future State', 'Summary': 'Security, Development - CI/CD, Operations', '_id': '22597798e2cb4e39bf4de568ad6466ed', '_collection_name': 'LoanComplaints'}, page_content=\"Description: As a product owner, I want to have the architecture well thought out and documented, so that the developers know what to do now and in the future\\n\\n*Notes:*\\n\\n* Reference architecture lives in [https://infostrux.atlassian.net/wiki/spaces/ENG/pages/665878622/Reference+Architecture|https://infostrux.atlassian.net/wiki/spaces/ENG/pages/665878622/Reference+Architecture]  \\n* Reference architecture may need to be updated if a particular aspect of the current customer's solution is not appropriately covered. However, the reference architecture still serves as a master document for all other projects, and any deviations from the base need to be exposed as an alternative.\\n* Future state template is on Google Drive under [Engineering/Templates|https://drive.google.com/drive/folders/1Mkctb4ccXZU-Icicrz853Bg83ENQGNkj]\\n* Future state deliverable should live  in /Customers/<customer>/Infostrux - <customer> Shared Folder/Deliverables\\n* An approach to infrastructure (mostly for extractors) is documented here: [https://infostrux.atlassian.net/wiki/spaces/ENG/pages/225574915/Extractors|https://infostrux.atlassian.net/wiki/spaces/ENG/pages/225574915/Extractors] \\n\\n*Acceptance Criteria:*\\n\\n* The following section of the future state document is filled in:\\n** Security - should include discussion on RBAC structure, including the roles and potentially other controls that need to be set up for Snowflake, Cloud, and other components. Infostrux has best practices documentation and default roles documentation that should be followed. \\n** Development - CI/CD\\n** Operations\\n* A future state document for projects built on the reference architecture should link appropriate places in the reference architecture and describe choices of alternatives and/or deviations from it. \\n* Most of the decision points are resolved - this may require communication with the customer and socialization of what we are trying to do.\\n* Grammarly run\\n* Reviewed internally\"),\n",
       " Document(metadata={'source': '../data/TF-Task.csv', 'row': 110, 'Issue key': 'TDF-29', 'Parent key': 'TDF-4', 'Parent summary': 'SAMPLE - Dev Env:Cloud', 'Summary': 'AWS Accounts Consultation - pre (optional)', '_id': '3b89e96e47f14ce0a42af8b821d35f16', '_collection_name': 'LoanComplaints'}, page_content=\"Description: As a developer, as part of a Snowstarter rollout, I need a Production and Development AWS account. While deploying a development environment and data pipeline in the Development AWS account, the Production account will only have a data pipeline. This is to conduct a meeting to discuss the project infrastructure landscape (with the Customer)\\nThe attendees should be internal and customer resources overseeing infrastructure roll-outs.\\n\\n*Acceptance Criteria:*\\n\\n* Discuss the development and target environment configuration options. For example, will we be developing, testing, and deploying from a single AWS account or from multiple AWS accounts?\\n* Gather the customer's preferences as they pertain to the item mentioned above.\\n* Review roles and permissions pertaining to the development team's access to the development and target environments.\\n* Conduct a threat modelling analysis. \\n* Identify assets, actors, entry points, components, use cases, and trust levels, and include these in a design diagram (e.g., here - note that the Assets and Security layers need to be made visible in this example)\\n* Identify a list of threats. For each threat, identify mitigations, which may include security control implementations.\\n* Create and review a risk matrix to determine if the threat is adequately mitigated (e.g., here)\")]"
      ]
     },
     "execution_count": 236,
     "metadata": {},
     "output_type": "execute_result"
    }
   ],
   "source": [
    "response = naive_retrieval_chain.invoke(\n",
    "    {\"question\": \"How should I structure the project discovery?\"}\n",
    ")\n",
    "response[\"context\"]"
   ]
  },
  {
   "cell_type": "markdown",
   "id": "ac35ea02",
   "metadata": {},
   "source": [
    "# Multi-query Retrieval"
   ]
  },
  {
   "cell_type": "code",
   "execution_count": 237,
   "id": "51974203",
   "metadata": {},
   "outputs": [],
   "source": [
    "from langchain.retrievers.multi_query import MultiQueryRetriever\n",
    "\n",
    "multi_query_retriever = MultiQueryRetriever.from_llm(\n",
    "    retriever=naive_retriever, llm=chat_model\n",
    ")"
   ]
  },
  {
   "cell_type": "code",
   "execution_count": 238,
   "id": "ac4cbe67",
   "metadata": {},
   "outputs": [],
   "source": [
    "multi_query_retrieval_chain = (\n",
    "    {\n",
    "        \"context\": itemgetter(\"question\") | multi_query_retriever,\n",
    "        \"question\": itemgetter(\"question\"),\n",
    "    }\n",
    "    | RunnablePassthrough.assign(context=itemgetter(\"context\"))\n",
    ")"
   ]
  },
  {
   "cell_type": "code",
   "execution_count": 239,
   "id": "72b2386e",
   "metadata": {},
   "outputs": [
    {
     "data": {
      "text/plain": [
       "[Document(metadata={'source': '../data/TF-Task.csv', 'row': 1, 'Issue key': 'TDF-17', 'Parent key': 'TDF-1', 'Parent summary': 'Initiation:Discovery', 'Summary': 'Infrastructure Workshop', '_id': '69ed55bf3a78436e9a21284ab3152029', '_collection_name': 'LoanComplaints'}, page_content='Description: As a development team, we want to hold discovery sessions to verify and or adjust the business objectives that were presented in the proposal and to understand the current and desired future data analytics landscape so that we can properly plan out upcoming work\\n\\n*Notes:*\\n\\n* More than one session can be scheduled, as necessary.\\n* Often, talking directly to stakeholders clarifies what needs to be done. Care has to be taken to understand priorities of different parties and align them if possible, with the priorities set by the person responsible for the whole project\\n* Example questions which can be used in some cases instead of the questionnaire for shorter-term projects [https://infostrux.atlassian.net/wiki/spaces/Delivery/pages/1755512837|https://infostrux.atlassian.net/wiki/spaces/Delivery/pages/1755512837|smart-link] \\n* Ideally, everybody on the team attends the discovery sessions so that everybody is familiar with the business objectives, current state and future \\n* The proposal and all pre-sales discovery is in google docs under Customers/<customer>/PreSales/\\n* SOW is in Customers/<customer>/Contracts/\\n* Template questionnaire to drive the session is in Engineering/_Templates folder - check for the latest version of CUSTOMER - Current and Future State Questionnaire\\n* For this task, only Data Analytics part of the Questionnaire is relevant\\n\\n*Acceptance Criteria:*\\n\\n* Client work session scheduled\\n* Agenda circulated \\n* Questionnaire copied and prefilled with all known information obtained by pre-sales\\n* Questionnaire shared with the client\\n* \"Customers/<customer>/Infostrux - <customer> Shared Folder\" is shared with the client\\n* Client asked to fill what they can\\n\\n* Work session conducted and recorded, focused on infrastructure, ingest/egest processing of the data sources/sinks, operations, devops\\n* Notes taken in the questionnaire, ideally when screen sharing is on so that the customer can verify what\\'s being typed\\n* Recording uploaded to Customers/<customer>/Delivery/Meeting Notes and Recordings/ and marked with purpose and date\\n\\n* Questionnaire cleaned up\\n* Further clarification, if needed, done, or clearly marked to be resolved during the future state design phase\\n\\n* Questionnaire shared with the client, asking for comments\\n* Comments reviewed, clarified\\n* Client sign-off granted'),\n",
       " Document(metadata={'source': '../data/TF-Task.csv', 'row': 2, 'Issue key': 'TDF-16', 'Parent key': 'TDF-1', 'Parent summary': 'Initiation:Discovery', 'Summary': 'Data Workshop', '_id': '4c4e2c866ee44b7e852441bfd3df4c72', '_collection_name': 'LoanComplaints'}, page_content='Description: As a development team, we want to hold discovery sessions to verify and or adjust the business objectives that were presented in the proposal and to understand the current and desired future data analytics landscape so that we can properly plan out upcoming work\\n\\n*Notes:*\\n\\n* More than one session can be scheduled, as necessary.\\n* Often, talking directly to stakeholders clarifies what needs to be done. Care has to be taken to understand the priorities of different parties and align them if possible, with the priorities set by the person responsible for the whole project\\n* Example questions which can be used in some cases instead of the questionnaire for shorter-term projects [https://infostrux.atlassian.net/wiki/spaces/Delivery/pages/1755512837|https://infostrux.atlassian.net/wiki/spaces/Delivery/pages/1755512837|smart-link]\\n* Ideally, everybody on the team attends the discovery sessions so that everybody is familiar with the business objectives, current state, and future \\n* The proposal and all pre-sales discovery is in Google Docs under Customers/<customer>/PreSales/\\n* SOW is in Customers/<customer>/Contracts/\\n* Template questionnaire to drive the session is in Engineering/_Templates folder - check for the latest version of CUSTOMER - Current and Future State Questionnaire\\n* For this task, only Data Analytics part of the Questionnaire is relevant\\n\\n*Acceptance Criteria:*\\n\\n* Client work session scheduled\\n* Agenda circulated \\n* Questionnaire copied and prefilled with all known information obtained by pre-sales\\n* The questionnaire was shared with the client\\n* \"Customers/<customer>/Infostrux - <customer> Shared Folder\" is shared with the client\\n* The client asked to fill in what they can\\n\\n* Work session conducted and recorded, focused on:\\n** Business objectives section - this is just about the most important part to understand and verify. The section should have been prefilled based on SOW and the proposal.\\n** data analytics aspects and understanding of data sources\\n* Notes taken in the questionnaire, ideally when screen sharing is on so that the customer can verify what\\'s being typed\\n* Recording uploaded to Customers/<customer>/Delivery/Meeting Notes and Recordings/ and marked with purpose and date\\n\\n* Questionnaire cleaned up\\n* Further clarification, if needed, done or clearly marked to be resolved during the future state design phase\\n\\n* A questionnaire was shared with the client, asking for comments\\n* Comments reviewed, clarified\\n* Client sign-off granted'),\n",
       " Document(metadata={'source': '../data/TF-Task.csv', 'row': 87, 'Issue key': 'TDF-163', 'Parent key': 'TDF-161', 'Parent summary': 'SAMPLE - Data Quality Improvement', 'Summary': 'DQI 2 - Analyze the Information Environment', '_id': 'b09a444fd96d4a89aea7572244490404', '_collection_name': 'LoanComplaints'}, page_content=\"Description: As a client and engineer, I want to gather, compile, and analyze information about the current situation and information environment, at the appropriate level of detail, for the data, processes, people/organizations, technology, and information life cycle associated with the DQ issue.\\n\\n* Provide an understanding of the environment impacting or creating the issue.\\n* Ensure the data relevant to the issue is being assessed and analyzed.\\n* As well as the data, understand the relevant people, processes, and technologies.\\n\\n*Notes:*\\n\\n* I recommend that the technical lead on the project take on this task.\\n\\n*Acceptance Criteria:*\\n\\n* Has enough data and specifications been gathered to support the project goals?\\n* Has the information lifecycle/dataflow been documented?\\n* Have the initial ideas on business impact and root causes been documented?\\n** A great way to document root causes is the [+Ishikawa 'fish diagram,'+ |https://asq.org/quality-resources/fishbone]which is great for identifying possible causes and categorising the root causes.\\n** Business impact can be roughed in initially with the [+Failure Mode & Effects Analysis (FMEA)+|https://asq.org/quality-resources/fmea].\\n* Have issues with permissions to access data been identified?\"),\n",
       " Document(metadata={'source': '../data/TF-Task.csv', 'row': 88, 'Issue key': 'TDF-162', 'Parent key': 'TDF-161', 'Parent summary': 'SAMPLE - Data Quality Improvement', 'Summary': 'DQI 1 - Define Business Need and Approach', '_id': 'c6eb0eed39c24ea08684e2cc221ebec6', '_collection_name': 'LoanComplaints'}, page_content='Description: As a client and an engineer, I want to understand the nature of the Data Quality Issue identified by defining the business area focus, analyzing with methods like data profiling, clarifying the results expected by the execution of the data quality improvement elements in scope, and finally establishing the process for solving the data quality issue.\\n\\n*Acceptance Criteria:*\\n\\n* Define the problem from the Business point of view and where DQ fits into the problem.\\n* Delineate the high-level data, people, processes, and technologies related to the problem.\\n* Then, either define next steps with a project plan.\\n* All the above criteria are captured comprehensively in a project plan document. You can use this as a template [https://docs.google.com/document/d/1GNS-e2nNbbURZMxHNohX3rvlt7WAXKc-TxAyld6fGSc/edit#heading=h.oldfddl63719|https://docs.google.com/document/d/1GNS-e2nNbbURZMxHNohX3rvlt7WAXKc-TxAyld6fGSc/edit#heading=h.oldfddl63719|smart-link] \\n* *_Ensure resources have been committed and a project kick-off meeting has been held before going on to the next Step._*\\n\\n*Notes and Examples:*\\n\\n* Work with the client to get the correct business context This may involve interviewing people on the client side to identify source systems and teams, as well as downstream impacts at the BI or consumption level\\n\\n*Example: For a Sales Report, you could describe:*\\n\\n* The high-level data set on which the report is based and the process the data goes through from producer to consumption by the Sales Report.\\n* The importance of the report to the different levels of stakeholders (personas).\\n* Poor Data Quality could cost their organization in the form of frequent reconciliations, analysis efforts to confirm sources, and sub-optimal decisions.\\n* After establishing baselines, goals might include improving DQ Dimensions like Accuracy, Completeness, Conformance, and Timeliness.'),\n",
       " Document(metadata={'source': '../data/TF-Task.csv', 'row': 0, 'Issue key': 'TDF-156', 'Parent key': 'TDF-1', 'Parent summary': 'Initiation:Discovery', 'Summary': 'Tailor the customer questionnaire', '_id': 'ccba3bafa3e1478094cf7879a145fa47', '_collection_name': 'LoanComplaints'}, page_content=\"Description: Using information obtained from the GTM and CSA teams, as well as from the client kick-off meeting, tailor the questionnaire that will be used in the client workshops.\\n\\nThe goals are:\\n\\n# Address relevant questions with answers that we already have\\n# Reduce the questionnaire to the relevant questions that we don’t already have answers for\\n\\nThe outcome will be a focused questionnaire that can be used in the discovery workshops when we can confirm the information we already heard, and ask only the relevant remaining questions.  This will let the client know that we’ve been listening to them since the beginning, that the different teams in Infostrux are talking to one another and that we respect the client’s time by not repeating the same set of questions.\\n\\n(TIP:  invite the CSA team member to help tailor the questionnaire so that they can supply the info they have)\\n\\nUse the following template as the base for your questionnaire:\\n\\n[https://docs.google.com/spreadsheets/d/1zPzMetyBDuwizTgMRENQCP7WbXGKLpviUVRekpksLDY/edit?usp=sharing|https://docs.google.com/spreadsheets/d/1zPzMetyBDuwizTgMRENQCP7WbXGKLpviUVRekpksLDY/edit?usp=sharing|smart-link] \\n\\nComplete the information you already know, avoid unnecessary queries for the customer for domains that are not relevant to the engagement, and refrain from sharing your screen or the document in its entirety to prevent overwhelming the customer.\\n\\n*Acceptance Criteria:*\\n\\n* Create a copy of the questionnaire and store it in the client's Google Drive folder\\n* Fill in all details that we can before the client discovery calls so that we know what to fill in during these calls (the missing details)\"),\n",
       " Document(metadata={'source': '../data/TF-Task.csv', 'row': 80, 'Issue key': 'TDF-171', 'Parent key': 'TDF-161', 'Parent summary': 'SAMPLE - Data Quality Improvement', 'Summary': 'DQI 10 - Communicate Actions and Results', '_id': '5b31cb96afe6478dada47a7cce92f201', '_collection_name': 'LoanComplaints'}, page_content=\"Description: As a client, I want to understand the results of the DQI project.\\n\\n*Acceptance Criteria:*\\n\\n* Project progress, results, and standardized improvements have been documented and appropriately communicated.\\n\\n*Notes:*\\n\\n* Communication is definitely not the last step. It is actually critical to ensure that continuous communications about the ongoing Data Quality improvement successes and the ROI are influencing the executive and helping to build a Data Quality Culture that celebrates 'how great our data is now!'.\\n* Communications is used to:\\n** Educate and raise awareness of the importance and impact of data quality on the business.\\n** Maintain support for the project.\\n** Maintain support for resulting action plans and improvement.\\n** Show successes and ROI\\n* Throughout every step, use your best communication, negotiation, and change management, and people skills to appropriately:\\n** Determine who needs communication\\n** Listen\\n** Collaborate\\n** Foster teamwork\\n** Obtain agreement on your goals\\n** Market and sell the metrics\\n** Resolve conflicts\\n** Address resistance to change\\n** Share the credit\\n** Celebrate success!\"),\n",
       " Document(metadata={'source': '../data/TF-Task.csv', 'row': 83, 'Issue key': 'TDF-167', 'Parent key': 'TDF-161', 'Parent summary': 'SAMPLE - Data Quality Improvement', 'Summary': 'DQI 6 - Develop Improvement Plans', '_id': 'ac70dbc3762b4e158a9aa1d87b996af7', '_collection_name': 'LoanComplaints'}, page_content='Description: As an engineer/client, I want to understand the improvement plan for the data quality issue.\\n\\n*Acceptance Criteria:*\\n\\n* Support for the improvement plan and recommended actions has been obtained.\\n* Improvement plans have been developed and documented.\\n* Results/Benefits of the project and recommendations have been communicated.\\n* Necessary parties impacted by the improvement plan have been identified.\\n\\n\\n*Notes:*\\n\\n* It is critical to determine the preliminary owner for each of the specific recommendations addressing the root causes.\\n** _Note: the actions to address the root causes can range from a simple task on someone’s to do list to starting a major project._\\n** _Don’t be surprised if you need to prioritise your list of recommendations before developing detailed improvement plans._'),\n",
       " Document(metadata={'source': '../data/TF-Task.csv', 'row': 14, 'Issue key': 'TDF-118', 'Parent key': 'TDF-114', 'Parent summary': 'Initiation:Engagement Setup', 'Summary': 'Client Kickoff', '_id': '1b1d1f0653184301ab6b65ce9face66b', '_collection_name': 'LoanComplaints'}, page_content='Description: *Client Kickoff:* We officially start the engagement with the Client in a joint meeting between Infostrux and the Client to meet the team, review the salient points, and communicate next steps.\\n\\n*Acceptance Criteria:*\\n\\n* See here for details: [https://infostrux.atlassian.net/wiki/spaces/Delivery/pages/133824578|https://infostrux.atlassian.net/wiki/spaces/Delivery/pages/133824578|smart-link]\\n* Ensure all the steps above in the document have been completed, and the kickoff meeting has been held'),\n",
       " Document(metadata={'source': '../data/TF-Task.csv', 'row': 84, 'Issue key': 'TDF-166', 'Parent key': 'TDF-161', 'Parent summary': 'SAMPLE - Data Quality Improvement', 'Summary': 'DQI 5 - Identify Root Causes', '_id': '7624a84ae31a430a8f9c3ae0130b2a83', '_collection_name': 'LoanComplaints'}, page_content='Description: As an engineer and a client, I want to understand the true causes of the data quality problems and then develop recommendations for addressing those root causes for the client/Infostrux to take action on.\\n\\n*Acceptance Criteria:*\\n\\n* Root causes of the data quality issues have been identified and documented\\n* Root causes and recommendations have been communicated to the client\\n* Appropriate sponsors and stakeholders have been included in the communications\\n\\n*Notes:*\\n\\n* The purpose is to ensure that recommendations and future improvement plans focus on the true causes of the data quality issues.\\n* Make use of any formalised data governance structure and stewards when conducting root cause analysis and implementing improvements, both preventative and corrective.\\xa0\\n** E.g., your team could determine where in the data streams it would be good to have stewards and then build supports to enable them to determine:\\n*** Who is accountable?\\n*** Who is responsible?\\n*** Who provides input and needs to be consulted? Who has the knowledge?\\n*** Who needs to be informed?\\n*** Who attends Root Cause Analysis sessions?\\n*** Who has the authority to make decisions?\\n*** What venues for interaction and communication are already in place that you can make use of?\\n* [+*A Cause-and-Effect or Fishbone Diagram*+|https://en.wikipedia.org/wiki/Ishikawa_diagram] is a standard quality technique for identifying, exploring, and graphically displaying all possible causes of an issue.'),\n",
       " Document(metadata={'source': '../data/TF-Task.csv', 'row': 90, 'Issue key': 'TDF-158', 'Parent key': 'TDF-3', 'Parent summary': 'Initiation:Future State', 'Summary': 'Create - Customer-specific tickets and epics', '_id': 'abab465a96af4d09b72e26b412d91c52', '_collection_name': 'LoanComplaints'}, page_content=\"Description: As a tech lead, I want to create epics and tickets not covered by the TDF based on the technical discovery and current and future state documentation. \\n\\n*Notes:* \\n\\n* Use [this document|https://infostrux.atlassian.net/wiki/spaces/ENG/pages/1823801360/JIRA+Board+Habits?atlOrigin=eyJpIjoiMTM3MDdkOTdkZmI0NDYwNDlkYWY2MWExZTNmNTUyMTEiLCJwIjoiYyJ9] as a guide for creating additional tickets.\\n* The {{SAMPLE}} epics may not apply to this project, so they do not need to be cloned if they are not related to the SOW / Future state requirements approved by the client.\\n\\n*Acceptance Criteria:*\\n\\n* Create the epics based on the SOW and the Future state document, based on the high-level focus areas.\\n* Create tasks under each epic for the actual work to be done (use {{_TDF Samples}} whenever possible)\\n* Go over the SOW and ensure that all of the points are covered \\n** If something is mentioned in the SOW but in the discovery meeting, the customer said they don't want it, add a prefix of “Out-Of-Scope” in the ticket title.\\n* Review the discovery minutes and ensure everything the customer mentioned is covered.\\n* Ask the team for feedback.\"),\n",
       " Document(metadata={'source': '../data/TF-Task.csv', 'row': 70, 'Issue key': 'TDF-154', 'Parent key': 'TDF-144', 'Parent summary': 'Engagement Setup', 'Summary': 'Schedule a meeting to prepare the kick-off meeting presentation', '_id': '9c3e5b63b8204fa69b5aa33b88b5cc32', '_collection_name': 'LoanComplaints'}, page_content='Description: *Acceptance Criteria:*\\n\\n* Schedule a meeting to prepare the kick-off meeting presentation.'),\n",
       " Document(metadata={'source': '../data/TF-Task.csv', 'row': 68, 'Issue key': 'TDF-92', 'Parent key': 'TDF-14', 'Parent summary': 'SAMPLE - Data Model - <Use Case Set>', 'Summary': 'Business Model', '_id': 'f0d4bd03805245638f6f7ed7b21f24b0', '_collection_name': 'LoanComplaints'}, page_content='Description: As a developer, I want to understand the business domain and the business processes relevant to the use case set, so that I can create proper models.\\n\\n*Notes:* \\n\\n* See Customers/_Demos/ACME for an example of the Business Entities Document\\n* The business entities template is in Google Docs Engineering/Templates folder\\n* The business entities doc is machine-readable. Try the Business Entities -> Show Entity Diagram menu in Google Docs. It uses headings to identify entities and headings and section names, such as description, to identify parts of the entity definition. Copy/paste is the way to go\\n* See [https://infostrux.atlassian.net/wiki/spaces/ENG/pages/188448834/Data+Modelling|https://infostrux.atlassian.net/wiki/spaces/ENG/pages/188448834/Data+Modelling]  for a description of the modelling approach\\n\\n*Acceptance Criteria:*\\n\\n* Business domain discovery session(s) with the client held, where the client is asked about every business entity that we may need, and the understanding of the entity relationships and their participation in the business process is gained\\n* Business entities document written based on the current knowledge of the domain\\n* Business entities document follows the structure described in [https://infostrux.atlassian.net/wiki/spaces/ENG/pages/666402845/Business+Domain+Model#Representation-of-the-Business-Model|https://infostrux.atlassian.net/wiki/spaces/ENG/pages/666402845/Business+Domain+Model#Representation-of-the-Business-Model]\\n* Business process documentation that describes how the business process works (as opposed to just the business entities), obtained, and/or notes taken \\n* Business entities and business process documentation live under /Customers/<customer>/Infostrux - <customer> Shared Folder/Deliverables (if written by us) or .../Provided by Customer/ if obtained from the client\\n* Documents sent to the customer for review/comments, optionally running a review meeting\\n* Comments addressed'),\n",
       " Document(metadata={'source': '../data/TF-Task.csv', 'row': 110, 'Issue key': 'TDF-29', 'Parent key': 'TDF-4', 'Parent summary': 'SAMPLE - Dev Env:Cloud', 'Summary': 'AWS Accounts Consultation - pre (optional)', '_id': '3b89e96e47f14ce0a42af8b821d35f16', '_collection_name': 'LoanComplaints'}, page_content=\"Description: As a developer, as part of a Snowstarter rollout, I need a Production and Development AWS account. While deploying a development environment and data pipeline in the Development AWS account, the Production account will only have a data pipeline. This is to conduct a meeting to discuss the project infrastructure landscape (with the Customer)\\nThe attendees should be internal and customer resources overseeing infrastructure roll-outs.\\n\\n*Acceptance Criteria:*\\n\\n* Discuss the development and target environment configuration options. For example, will we be developing, testing, and deploying from a single AWS account or from multiple AWS accounts?\\n* Gather the customer's preferences as they pertain to the item mentioned above.\\n* Review roles and permissions pertaining to the development team's access to the development and target environments.\\n* Conduct a threat modelling analysis. \\n* Identify assets, actors, entry points, components, use cases, and trust levels, and include these in a design diagram (e.g., here - note that the Assets and Security layers need to be made visible in this example)\\n* Identify a list of threats. For each threat, identify mitigations, which may include security control implementations.\\n* Create and review a risk matrix to determine if the threat is adequately mitigated (e.g., here)\"),\n",
       " Document(metadata={'source': '../data/TF-Task.csv', 'row': 69, 'Issue key': 'TDF-91', 'Parent key': 'TDF-14', 'Parent summary': 'SAMPLE - Data Model - <Use Case Set>', 'Summary': 'Onboard Client to Data Modelling Process', '_id': '21087ae6ea74470a928b2efebcf525dd', '_collection_name': 'LoanComplaints'}, page_content='Description: As a client, I want to understand how the data modelling and implementation work\\n\\n*Notes:*\\n\\n* auto-dbt-framework repo contains most of the code generation and code validation code\\n* dbt-starter-project and clones should be able to use it directly from the command line \\n* dbt-starter-project and clones should contain quickstart documentation, potentially walking the clients through the whole process\\n\\n*Acceptance Criteria:*\\n\\n* A meeting with client is scheduled\\n* A session is held where we explain the artifacts that will be produced and the process that will be followed. The following is shown:\\n* Business Entities, BAM\\n* Development Environment\\n* dbt, schemachange as appropriate\\n* Code generation and other tooling, with the explanation of options to keep it in or to throw it out'),\n",
       " Document(metadata={'source': '../data/TF-Task.csv', 'row': 96, 'Issue key': 'TDF-22', 'Parent key': 'TDF-3', 'Parent summary': 'Initiation:Future State', 'Summary': 'Technology Stack', '_id': '0187096dcd324ff2b98b678fa19e8889', '_collection_name': 'LoanComplaints'}, page_content=\"Description: As a product owner, I want to have the architecture well thought out and documented, so that the developers know what to do now and in the future\\n\\n*Notes:*\\n\\n* Reference architecture lives in [https://infostrux.atlassian.net/wiki/spaces/ENG/pages/665878622/Reference+Architecture|https://infostrux.atlassian.net/wiki/spaces/ENG/pages/665878622/Reference+Architecture]  \\n* Reference architecture may need to be updated if a particular aspect of the current customer's solution is not covered properly. However, the reference architecture still serves as a master document for all other projects, and any deviations from the base need to be exposed as alternatives \\n* Future state template is on Google Drive under [Engineering/Templates|https://drive.google.com/drive/folders/1Mkctb4ccXZU-Icicrz853Bg83ENQGNkj]\\n* Future state deliverable should live  in /Customers/<customer>/Infostrux - <customer> Shared Folder/Deliverables\\n* An approach to infrastructure (mostly for extractors) is documented here: [https://infostrux.atlassian.net/wiki/spaces/ENG/pages/225574915/Extractors|https://infostrux.atlassian.net/wiki/spaces/ENG/pages/225574915/Extractors] \\n\\n*Acceptance Criteria:*\\n\\n* The following section of the future state document is filled in:\\n** Technology Stack\\n* A future state document for projects built on the reference architecture should link appropriate places in the reference architecture and describe choices of alternatives and/or deviations from it. \\n* Most of the decision points are resolved - this may require communication with the customer and socialization of what we are trying to do.\\n* Grammarly run\\n* Reviewed internally\")]"
      ]
     },
     "execution_count": 239,
     "metadata": {},
     "output_type": "execute_result"
    }
   ],
   "source": [
    "response = multi_query_retrieval_chain.invoke(\n",
    "    {\"question\": \"How should I structure the project discovery?\"}\n",
    ")\n",
    "response[\"context\"]"
   ]
  },
  {
   "cell_type": "markdown",
   "id": "2f9ed439",
   "metadata": {},
   "source": [
    "# Emsemble method"
   ]
  },
  {
   "cell_type": "code",
   "execution_count": 240,
   "id": "f6f90b51",
   "metadata": {},
   "outputs": [],
   "source": [
    "from langchain.retrievers import EnsembleRetriever\n",
    "\n",
    "retriever_list = [\n",
    "    naive_retriever,\n",
    "    multi_query_retriever,\n",
    "]\n",
    "equal_weighting = [1 / len(retriever_list)] * len(retriever_list)\n",
    "\n",
    "ensemble_retriever = EnsembleRetriever(\n",
    "    retrievers=retriever_list, weights=equal_weighting\n",
    ")"
   ]
  },
  {
   "cell_type": "code",
   "execution_count": 241,
   "id": "e63180b8",
   "metadata": {},
   "outputs": [],
   "source": [
    "ensemble_retrieval_chain = (\n",
    "    {\n",
    "        \"context\": itemgetter(\"question\") | ensemble_retriever,\n",
    "        \"question\": itemgetter(\"question\"),\n",
    "    }\n",
    "    | RunnablePassthrough.assign(context=itemgetter(\"context\"))\n",
    ")"
   ]
  },
  {
   "cell_type": "code",
   "execution_count": 242,
   "id": "00038901",
   "metadata": {},
   "outputs": [
    {
     "data": {
      "text/plain": [
       "'TDF-1'"
      ]
     },
     "execution_count": 242,
     "metadata": {},
     "output_type": "execute_result"
    }
   ],
   "source": [
    "response = ensemble_retrieval_chain.invoke(\n",
    "    {\"question\": \"How should I structure the project discovery?\"}\n",
    ")\n",
    "response[\"context\"][0].metadata.get(\"Parent key\")"
   ]
  },
  {
   "cell_type": "markdown",
   "id": "17ce571e",
   "metadata": {},
   "source": [
    "Generate a summary of the JIRA Epics based on the tickets"
   ]
  },
  {
   "cell_type": "code",
   "execution_count": null,
   "id": "6a7e4739",
   "metadata": {},
   "outputs": [],
   "source": [
    "import pandas as pd\n",
    "\n",
    "jira_epics_df = pd.read_csv(\"../data/TF-EPIC.csv\")\n",
    "\n",
    "# Group all Jira tickets by their 'Parent key' (epic)\n",
    "from collections import defaultdict\n",
    "\n",
    "# Build a mapping from epic key to its tickets\n",
    "epic_tickets = defaultdict(list)\n",
    "for ticket in jira_tickets:\n",
    "    parent_key = ticket.metadata.get(\"Parent key\", None)\n",
    "    if parent_key:\n",
    "        epic_tickets[parent_key].append(ticket)\n",
    "\n",
    "# LLM-based epic summary generation\n",
    "epic_summary_prompt = ChatPromptTemplate.from_messages(\n",
    "    [\n",
    "        (\n",
    "            \"system\",\n",
    "            (\n",
    "                \"You are an expert at summarizing JIRA epics. \"\n",
    "                \"Given the descriptions of all tasks in an epic, generate a concise, high-level summary of the epic. \"\n",
    "                \"Return your answer as a single paragraph suitable for an engineering team.\"\n",
    "            ),\n",
    "        ),\n",
    "        (\n",
    "            \"human\",\n",
    "            (\n",
    "                \"JIRA Task Descriptions:\\n{task_descriptions}\\n\"\n",
    "                \"Summarize the overall epic as described.\"\n",
    "            ),\n",
    "        ),\n",
    "    ]\n",
    ")\n",
    "\n",
    "def get_epic_summary_llm(tickets):\n",
    "    # Concatenate all ticket descriptions for the epic\n",
    "    all_descriptions = []\n",
    "    for ticket in tickets:\n",
    "        desc = ticket.page_content\n",
    "        # Try to extract just the Description part if possible\n",
    "        if \"Description:\" in desc:\n",
    "            desc = desc.split(\"Description:\", 1)[1].strip()\n",
    "        all_descriptions.append(desc)\n",
    "    all_text = \"\\n\\n\".join(all_descriptions)\n",
    "    prompt = epic_summary_prompt.format_messages(task_descriptions=all_text)\n",
    "    response = llm(prompt)\n",
    "    # Just return the LLM's content as the summary\n",
    "    return response.content.strip()\n",
    "\n",
    "for index, row in jira_epics_df.iterrows():\n",
    "    tickets = epic_tickets[row[\"Issue key\"]]\n",
    "    jira_epics_df.at[index, \"Summary\"] = get_epic_summary_llm(tickets)\n",
    "\n",
    "jira_epics_df.to_csv(\"../data/TF-EPIC.csv\", index=False)"
   ]
  },
  {
   "cell_type": "code",
   "execution_count": 243,
   "id": "f7dda7c0",
   "metadata": {},
   "outputs": [
    {
     "data": {
      "text/plain": [
       "'This epic encompasses the end-to-end Data Quality Improvement (DQI) lifecycle, starting with a comprehensive understanding of the identified data quality issues through detailed assessment of data, processes, people, and technology environments. It involves defining the business context and impact using quantitative and qualitative measures, conducting root cause analysis with stakeholder engagement, and developing prioritized, documented improvement plans with clear ownership. The epic ensures implementation of corrective and preventive actions, including process changes, controls, training, and monitoring via data quality dimensions and metrics to sustain improvements. Continuous communication and change management are integral throughout to educate stakeholders, maintain executive support, foster a data quality culture, and demonstrate ROI. Ultimately, this work standardizes and institutionalizes data quality practices to prevent recurrence of errors and embed ongoing improvement within the organization.'"
      ]
     },
     "execution_count": 243,
     "metadata": {},
     "output_type": "execute_result"
    }
   ],
   "source": [
    "from langchain_community.document_loaders.csv_loader import CSVLoader\n",
    "from datetime import datetime, timedelta\n",
    "\n",
    "loader = CSVLoader(\n",
    "    file_path=f\"../data/TF-EPIC.csv\",\n",
    "    metadata_columns=[\n",
    "        \"Issue key\",\n",
    "        \"Summary\",\n",
    "    ],\n",
    ")\n",
    "\n",
    "jira_epics = loader.load()\n",
    "jira_epics[0].metadata.get(\"Summary\")"
   ]
  },
  {
   "cell_type": "markdown",
   "id": "183d5c56",
   "metadata": {},
   "source": [
    "# Generate graph"
   ]
  },
  {
   "cell_type": "code",
   "execution_count": 257,
   "id": "0731a723",
   "metadata": {},
   "outputs": [],
   "source": [
    "from langgraph.graph import StateGraph, END\n",
    "from langchain_core.messages import HumanMessage\n",
    "from langchain_core.runnables import RunnableLambda, RunnablePassthrough\n",
    "from langchain_core.prompts import ChatPromptTemplate\n",
    "from langchain_community.tools.tavily_search import TavilySearchResults\n",
    "from typing import TypedDict, Annotated, Any\n",
    "from langchain_core.prompts import PromptTemplate\n",
    "from langchain_core.output_parsers import StrOutputParser\n",
    "\n",
    "# Assume ensemble_retrieval_chain, llm, jira_epics, and epic_tickets are already defined in the notebook context\n",
    "\n",
    "\n",
    "# 1. Define the state\n",
    "class EpicGraphState(TypedDict):\n",
    "    query: str\n",
    "    epic_key: str\n",
    "    epic_summary: str\n",
    "    epic_tickets: list[Any]\n",
    "    is_related: bool\n",
    "    online_results: list[Any]\n",
    "\n",
    "\n",
    "# 2. Node: Retrieve tickets related to the query\n",
    "def retrieve_tickets_node(state: EpicGraphState):\n",
    "    query = state[\"query\"]\n",
    "    results = ensemble_retrieval_chain.invoke({\"question\": query})\n",
    "    return {\n",
    "        \"epic_key\": results['context'][0].metadata.get(\"Parent key\") if \"context\" in results and len(results['context']) > 0 else None\n",
    "    }\n",
    "\n",
    "# 3. Node: Get Epic summary for the parent key of the first result\n",
    "def get_epic_summary_node(state: EpicGraphState):\n",
    "    epic_key = state[\"epic_key\"]\n",
    "    if not epic_key:\n",
    "        return {\n",
    "            \"epic_summary\": None\n",
    "        }\n",
    "\n",
    "    # Find the epic in jira_epics matching the epic_key and get its summary\n",
    "    epic_summary = None\n",
    "    for epic in jira_epics:\n",
    "        if epic.metadata.get(\"Issue key\") == epic_key:\n",
    "            epic_summary = epic.metadata.get(\"Summary\")\n",
    "            break\n",
    "\n",
    "    return {\n",
    "        \"epic_summary\": epic_summary\n",
    "    }\n",
    "\n",
    "# 3.1 Node: Validate if query is related to the epic summary\n",
    "def validate_query_epic_node(state: EpicGraphState):\n",
    "    query = state[\"query\"]\n",
    "    epic_summary = state[\"epic_summary\"]\n",
    "    if not epic_summary:\n",
    "        return {\n",
    "            \"is_related\": False\n",
    "        }\n",
    "    \n",
    "    prompt = ChatPromptTemplate.from_messages([\n",
    "        (\"system\", \"You are an expert project manager. Given a user query and an epic summary, determine if the query is about the epic. Respond with 'yes' or 'no'.\"),\n",
    "        (\"human\", \"Query: {query}\\n\\nEpic Summary: {epic_summary}\\n\\nIs the query about this epic?\"),\n",
    "    ])\n",
    "\n",
    "    llm_input = prompt.format_messages(query=query, epic_summary=epic_summary)\n",
    "    result = llm(llm_input)\n",
    "    answer = result.content.strip().lower()\n",
    "\n",
    "    return {\n",
    "        \"is_related\": answer.startswith(\"yes\")\n",
    "    }\n",
    "\n",
    "def is_related_to_epic_node(state: EpicGraphState):\n",
    "    return state[\"is_related\"]\n",
    "\n",
    "# 4. Node: Extract all tickets for the epic\n",
    "def extract_tasks_from_epic_node(state: EpicGraphState):\n",
    "    epic_key = state[\"epic_key\"]\n",
    "    if not epic_key:\n",
    "        return {\n",
    "            \"epic_tickets\": []\n",
    "        }\n",
    "    # Extract all records from jira_epics where the \"Parent key\" matches the epic_key\n",
    "    epic_tickets = []\n",
    "    for epic in jira_tickets:\n",
    "        if epic.metadata.get(\"Parent key\") == epic_key:\n",
    "            epic_tickets.append(epic)\n",
    "    # Build JSON object as specified\n",
    "    epic_name = None\n",
    "    # Try to get the epic name from the first ticket's parent summary, or fallback to epic_key\n",
    "    if epic_tickets:\n",
    "        epic_name = epic_tickets[0].metadata.get(\"Parent summary\") or epic_tickets[0].metadata.get(\"Parent key\") or epic_key\n",
    "    else:\n",
    "        epic_name = epic_key\n",
    "\n",
    "    tickets_json = []\n",
    "    for ticket in epic_tickets:\n",
    "        print(ticket.metadata)\n",
    "        name = ticket.metadata.get(\"Summary\", \"\")\n",
    "        description = ticket.page_content\n",
    "        tickets_json.append({\"name\": name, \"description\": description})\n",
    "\n",
    "    output_json = [\n",
    "        {\n",
    "            \"epic_name\": epic_name,\n",
    "            \"tickets\": tickets_json\n",
    "        }\n",
    "    ]\n",
    "\n",
    "    return {\n",
    "        \"epic_tickets\": output_json\n",
    "    }\n",
    "\n",
    "\n",
    "# 5. Node: Search online for technologies mentioned in the query\n",
    "def search_online_node(state: EpicGraphState):\n",
    "    query = state[\"query\"]\n",
    "    tavily = TavilySearchResults()\n",
    "    search_results = tavily.invoke({\"query\": query})\n",
    "    return {\n",
    "        \"online_results\": search_results\n",
    "    }\n",
    "\n",
    "# 6. Node: Use LLM to generate list of epics and tickets from online info\n",
    "def generate_epics_and_tickets_node(state: EpicGraphState):\n",
    "    query = state[\"query\"]\n",
    "    online_results = state.get(\"online_results\", [])\n",
    "    context = \"\\n\".join([r[\"content\"] for r in online_results if \"content\" in r])\n",
    "    prompt_template = \"\"\"\n",
    "You are a project analyst. Given a user query and online information about technologies, generate a list of relevant EPICs and tickets that might be needed for a project.\n",
    "\n",
    "Format the output as a JSON list in the following structure:\n",
    "\n",
    "[\n",
    "  {{\n",
    "    \"epic_name\": \"<Epic Title>\",\n",
    "    \"tickets\": [\n",
    "      {{\n",
    "        \"name\": \"<Task Title>\",\n",
    "        \"description\": \"<Task Description>\"\n",
    "      }},\n",
    "      ...\n",
    "    ]\n",
    "  }},\n",
    "  ...\n",
    "]\n",
    "\n",
    "Only output the JSON list, nothing else.\n",
    "\n",
    "Query: {query}\n",
    "Online Information: {context}\n",
    "\"\"\"\n",
    "    gen_llm = ChatOpenAI(model=\"gpt-4.1-mini\")\n",
    "    gen_chain = PromptTemplate.from_template(prompt_template) | gen_llm | JsonOutputParser()\n",
    "    result = gen_chain.invoke({\"query\": query, \"context\": context})\n",
    "\n",
    "    return {\n",
    "        \"epic_tickets\": result\n",
    "    }\n",
    "\n",
    "# 7. Define the graph\n",
    "graph = StateGraph(EpicGraphState)\n",
    "\n",
    "graph.add_node(\"RetrieveTickets\", retrieve_tickets_node)\n",
    "graph.add_node(\"GetEpicSummary\", get_epic_summary_node)\n",
    "graph.add_node(\"ValidateQueryEpic\", validate_query_epic_node)\n",
    "graph.add_node(\"ExtractTasksFromEpic\", extract_tasks_from_epic_node)\n",
    "graph.add_node(\"SearchOnline\", search_online_node)\n",
    "graph.add_node(\"GenerateEpicsAndTickets\", generate_epics_and_tickets_node)\n",
    "\n",
    "# Edges\n",
    "graph.set_entry_point(\"RetrieveTickets\")\n",
    "graph.add_edge(\"RetrieveTickets\", \"GetEpicSummary\")\n",
    "graph.add_edge(\"GetEpicSummary\", \"ValidateQueryEpic\")\n",
    "graph.add_conditional_edges(\n",
    "    \"ValidateQueryEpic\",\n",
    "    is_related_to_epic_node,\n",
    "    {\n",
    "        True: \"ExtractTasksFromEpic\",\n",
    "        False: \"SearchOnline\",\n",
    "    },\n",
    ")\n",
    "graph.add_edge(\"ExtractTasksFromEpic\", END)\n",
    "graph.add_edge(\"SearchOnline\", \"GenerateEpicsAndTickets\")\n",
    "graph.add_edge(\"GenerateEpicsAndTickets\", END)\n",
    "\n",
    "# Compile the graph\n",
    "epic_graph = graph.compile()\n",
    "\n",
    "# Example usage:\n",
    "# result = epic_graph.invoke({\"query\": \"What are the data quality tasks for this project?\"})\n",
    "# print(result)"
   ]
  },
  {
   "cell_type": "code",
   "execution_count": 179,
   "id": "3dae4a94",
   "metadata": {},
   "outputs": [
    {
     "data": {
      "image/png": "[encoded data removed]",
      "text/plain": [
       "<langgraph.graph.state.CompiledStateGraph object at 0x12e2dd040>"
      ]
     },
     "execution_count": 179,
     "metadata": {},
     "output_type": "execute_result"
    }
   ],
   "source": [
    "epic_graph"
   ]
  },
  {
   "cell_type": "code",
   "execution_count": 258,
   "id": "6f53f6dd",
   "metadata": {},
   "outputs": [
    {
     "name": "stdout",
     "output_type": "stream",
     "text": [
      "Receiving update from node: 'RetrieveTickets'\n",
      "\n",
      "\n",
      "\n",
      "Receiving update from node: 'GetEpicSummary'\n",
      "\n",
      "\n",
      "\n",
      "Receiving update from node: 'ValidateQueryEpic'\n",
      "\n",
      "\n",
      "\n",
      "Receiving update from node: 'SearchOnline'\n",
      "\n",
      "\n",
      "\n",
      "Receiving update from node: 'GenerateEpicsAndTickets'\n",
      "[{'epic_name': 'Setup Azure Data Factory Environment', 'tickets': [{'name': 'Create Azure Data Factory instance', 'description': 'Create a new Azure Data Factory resource by selecting subscription, resource group, and region, then review and create the instance.'}, {'name': 'Provision Azure Data Lake Storage accounts', 'description': 'Create source and destination Data Lake storage accounts and set up containers for data movement.'}, {'name': 'Configure networking and access settings', 'description': 'Review and configure networking settings for the Data Factory and storage accounts, including any required IP whitelisting or access rules.'}]}, {'epic_name': 'Design and Build Data Pipeline', 'tickets': [{'name': 'Create Linked Services for source and destination', 'description': 'Set up linked services in Azure Data Factory to connect to the source and destination Data Lakes.'}, {'name': 'Create datasets for source and destination data', 'description': 'Define datasets that specify file paths, schemas, and data formats (e.g., CSV, JSON) for source and destination.'}, {'name': 'Build Copy Data activity pipeline', 'description': 'Develop a simple pipeline using the Copy Data activity to move data from one Data Lake container to another, configuring source and sink settings.'}, {'name': 'Test and validate data pipeline', 'description': 'Run the pipeline to ensure data is moved correctly from source to destination and handle overwrite or append scenarios as needed.'}]}, {'epic_name': 'Azure Data Factory Studio and Monitoring', 'tickets': [{'name': 'Launch Azure Data Factory Studio', 'description': 'Access Azure Data Factory Studio via supported browsers to author and monitor pipelines.'}, {'name': 'Set up pipeline monitoring and alerts', 'description': 'Configure monitoring for pipelines and set up alerts for failures or performance issues.'}]}]\n",
      "\n",
      "\n",
      "\n"
     ]
    }
   ],
   "source": [
    "from langchain_core.messages import HumanMessage\n",
    "\n",
    "# inputs = {\n",
    "#     \"query\": \"Which discovery task should I do for this project?\"\n",
    "# }\n",
    "inputs = {\n",
    "    \"query\": \"Which task should I do for setting Azure Data Factory?\"\n",
    "}\n",
    "\n",
    "async for chunk in epic_graph.astream(inputs, stream_mode=\"updates\"):\n",
    "    for node, values in chunk.items():\n",
    "        print(f\"Receiving update from node: '{node}'\")\n",
    "        if \"epic_tickets\" in values:\n",
    "            print(values[\"epic_tickets\"])\n",
    "        print(\"\\n\\n\")"
   ]
  }
 ],
 "metadata": {
  "kernelspec": {
   "display_name": ".venv",
   "language": "python",
   "name": "python3"
  },
  "language_info": {
   "codemirror_mode": {
    "name": "ipython",
    "version": 3
   },
   "file_extension": ".py",
   "mimetype": "text/x-python",
   "name": "python",
   "nbconvert_exporter": "python",
   "pygments_lexer": "ipython3",
   "version": "3.13.5"
  }
 },
 "nbformat": 4,
 "nbformat_minor": 5
}
